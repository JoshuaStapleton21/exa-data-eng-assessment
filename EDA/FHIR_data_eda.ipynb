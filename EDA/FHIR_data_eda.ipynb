{
 "cells": [
  {
   "attachments": {},
   "cell_type": "markdown",
   "metadata": {},
   "source": [
    "# Notebook for exploratory data analysis of FHIR data"
   ]
  },
  {
   "attachments": {},
   "cell_type": "markdown",
   "metadata": {},
   "source": [
    "The .json data is formulated in the [FHIR](https://www.hl7.org/fhir/overview.html) standard.\n",
    "- The basic building block in FHIR is a Resource\n",
    "- Each resource consists of data elements that describe the healthcare concept.\n",
    "- See the [FHIR Resource List](https://www.hl7.org/fhir/resourcelist.html) for a list of resources.\n",
    "- For our use case, we will primarily be using the [Patient](https://www.hl7.org/fhir/patient.html) resource.\n",
    "- The outcome of this EDA is a number of actionable testing/cleaning steps which will be implemented in tools/data_tests"
   ]
  },
  {
   "cell_type": "code",
   "execution_count": 40,
   "metadata": {},
   "outputs": [],
   "source": [
    "import sys\n",
    "sys.path.insert(1, '..')\n",
    "import pandas as pd\n",
    "import json\n",
    "import importlib\n",
    "for k,v in list(sys.modules.items()):\n",
    "    if k.startswith('tools'):\n",
    "        importlib.reload(v)"
   ]
  },
  {
   "attachments": {},
   "cell_type": "markdown",
   "metadata": {},
   "source": [
    "## Bundle EDA"
   ]
  },
  {
   "cell_type": "code",
   "execution_count": 37,
   "metadata": {},
   "outputs": [],
   "source": [
    "# read in an example FHIR patient data file.\n",
    "with open('../data/Aaron697_Jerde200_6fa23508-960e-ff22-c3d0-0519a036543b.json') as f:\n",
    "    bundle_json = json.load(f)"
   ]
  },
  {
   "cell_type": "code",
   "execution_count": 39,
   "metadata": {},
   "outputs": [
    {
     "name": "stdout",
     "output_type": "stream",
     "text": [
      "{'Condition', 'DiagnosticReport', 'AllergyIntolerance', 'Immunization', 'Procedure', 'Patient', 'Provenance', 'Claim', 'Observation', 'CarePlan', 'ExplanationOfBenefit', 'CareTeam', 'MedicationRequest', 'Encounter', 'DocumentReference'}\n"
     ]
    }
   ],
   "source": [
    "# Data records are stored as FHIR bundles. Each bundle contains a list of entries.\n",
    "from fhir.resources.bundle import Bundle\n",
    "\n",
    "bundle = Bundle.parse_obj(bundle_json)\n",
    "# # view all different resource types in the bundle - patient should be the only relevant one for this project.\n",
    "print(set([e.resource.resource_type for e in bundle.entry]))\n",
    "\n",
    "# TODO: we need to check there is only one patient per bundle, and that the patient is the first entry for all .json files in the data folder since the entries field is a list.\n",
    "#  This can be implemented as a test."
   ]
  },
  {
   "attachments": {},
   "cell_type": "markdown",
   "metadata": {},
   "source": [
    "## Patient EDA"
   ]
  },
  {
   "cell_type": "code",
   "execution_count": 35,
   "metadata": {},
   "outputs": [
    {
     "name": "stdout",
     "output_type": "stream",
     "text": [
      "['resource_type', 'fhir_comments', 'id', 'implicitRules', 'implicitRules__ext', 'language', 'language__ext', 'meta', 'contained', 'extension', 'modifierExtension', 'text', 'active', 'active__ext', 'address', 'birthDate', 'birthDate__ext', 'communication', 'contact', 'deceasedBoolean', 'deceasedBoolean__ext', 'deceasedDateTime', 'deceasedDateTime__ext', 'gender', 'gender__ext', 'generalPractitioner', 'identifier', 'link', 'managingOrganization', 'maritalStatus', 'multipleBirthBoolean', 'multipleBirthBoolean__ext', 'multipleBirthInteger', 'multipleBirthInteger__ext', 'name', 'photo', 'telecom']\n"
     ]
    }
   ],
   "source": [
    "# extract the patient data\n",
    "from fhir.resources.patient import Patient\n",
    "\n",
    "patient = Patient.parse_obj(bundle.entry[0].resource)\n",
    "\n",
    "# print all fields in the patient data object\n",
    "patient_field_list = [field for field,value in patient]\n",
    "print(patient_field_list)\n",
    "\n",
    "# TODO: we need to check that all fields in the patient data object are valid/expected based on the FHIR model. This can be implemented as a test.\n",
    "# TODO: we also need to check that all field values in the patient data object are valid/expected based on the FHIR model. This can also be implemented as a test."
   ]
  },
  {
   "cell_type": "code",
   "execution_count": null,
   "metadata": {},
   "outputs": [],
   "source": []
  }
 ],
 "metadata": {
  "kernelspec": {
   "display_name": "venv",
   "language": "python",
   "name": "python3"
  },
  "language_info": {
   "codemirror_mode": {
    "name": "ipython",
    "version": 3
   },
   "file_extension": ".py",
   "mimetype": "text/x-python",
   "name": "python",
   "nbconvert_exporter": "python",
   "pygments_lexer": "ipython3",
   "version": "3.9.6"
  },
  "orig_nbformat": 4
 },
 "nbformat": 4,
 "nbformat_minor": 2
}
